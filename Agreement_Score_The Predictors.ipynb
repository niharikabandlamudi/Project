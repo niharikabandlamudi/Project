{
 "cells": [
  {
   "cell_type": "code",
   "execution_count": 22,
   "id": "b49d1f3d-2f7b-4cce-bb09-c2f76a496395",
   "metadata": {
    "tags": []
   },
   "outputs": [],
   "source": [
    "#Data Annotations file is saved to CSV for ease coding:\n",
    "#importing required libraries:\n",
    "import csv\n",
    "from sklearn.metrics import cohen_kappa_score\n",
    "\n",
    "#reading data from Final_Annotationsby_Detectives:\n",
    "#creating function name called csv_file_read function to read both the groups annotations files\n",
    "#1.Final_Annotationsby_Detectives group\n",
    "#2.Final_Annotations_by_San-annotations group\n",
    "\n",
    "def csv_file_read(csv_file_path,cids):\n",
    "    with open(csv_file_path,'r') as csvFile: #to open file.\n",
    "        impt_csv=csv.reader(csvFile,delimiter=',')\n",
    "        header=next(impt_csv) # to skip the row header\n",
    "        \n",
    "        #creating a list to store the data from multiple files.\n",
    "        data_list = {}\n",
    "        for cid in cids_list:\n",
    "            data_list[cid]=[]\n",
    "            \n",
    "        for i in impt_csv:\n",
    "            for cid in cids_list:\n",
    "                data_list[cid].append(i[cid])\n",
    "         #annotation_data_list.append(i[column]) #appending the actual data alone to prepare a list.\n",
    "    return data_list,header # this will return the data by skipping the first row and first columns in the form list.\n",
    "\n",
    "#importing the both CSV files from the other groups:\n",
    "\n",
    "#1.Final_Annotationsby_Detectives group\n",
    "csv_file_path_Detectives='./Final_Annotationsby_Detectives.csv'\n",
    "\n",
    "#2.Final_Annotations_by_San-annotations group\n",
    "csv_file_path_San_annotations='./Final_Annotations_by_San_annotations.csv'\n",
    "         \n",
    "#preparing the list variables from the imported files:\n",
    "\n",
    "#Detectives Annotations list\n",
    "cids_list = [2,3,4,5]\n",
    "Detectives_Annotations,header_Detectives=csv_file_read(csv_file_path_Detectives,cids_list)\n",
    "\n",
    "#San_annotations Annotations list\n",
    "San_annotations_Annotations,header_San_annotations=csv_file_read(csv_file_path_San_annotations,cids_list)"
   ]
  },
  {
   "cell_type": "code",
   "execution_count": null,
   "id": "448cbcdc-eddb-4ed3-987c-887c52876177",
   "metadata": {},
   "outputs": [],
   "source": [
    "#kappafloat\n",
    "#The kappa statistic, which is a number between -1 and 1. \n",
    "#The maximum value means complete agreement; zero or lower means chance agreement."
   ]
  },
  {
   "cell_type": "code",
   "execution_count": 23,
   "id": "83efc4e0-3062-494e-b20c-5b742a5c346e",
   "metadata": {
    "tags": []
   },
   "outputs": [
    {
     "name": "stdout",
     "output_type": "stream",
     "text": [
      "Cohen's Kappa Agreement Score Techology 0.5268\n",
      "Cohen's Kappa Agreement Score Ride Share 0.3986\n",
      "Cohen's Kappa Agreement Score Food Delivery 0.3981\n",
      "Cohen's Kappa Agreement Score Online Shopping 0.4597\n"
     ]
    }
   ],
   "source": [
    "#agreement score calculation using Cohen's Kappa Score Metric:\n",
    "for cid in cids_list:\n",
    "    Agreement_Score_CKS=cohen_kappa_score(Detectives_Annotations[cid],San_annotations_Annotations[cid])\n",
    "    print(\"Cohen's Kappa Agreement Score {} {:.4f}\".format(header_Detectives[cid],Agreement_Score_CKS))"
   ]
  }
 ],
 "metadata": {
  "kernelspec": {
   "display_name": "Python 3 (ipykernel)",
   "language": "python",
   "name": "python3"
  },
  "language_info": {
   "codemirror_mode": {
    "name": "ipython",
    "version": 3
   },
   "file_extension": ".py",
   "mimetype": "text/x-python",
   "name": "python",
   "nbconvert_exporter": "python",
   "pygments_lexer": "ipython3",
   "version": "3.11.4"
  }
 },
 "nbformat": 4,
 "nbformat_minor": 5
}
